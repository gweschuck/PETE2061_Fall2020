{
  "nbformat": 4,
  "nbformat_minor": 0,
  "metadata": {
    "colab": {
      "name": "Untitled9.ipynb",
      "provenance": [],
      "authorship_tag": "ABX9TyMtX7c1u9L40WM1v3OqTKjs",
      "include_colab_link": true
    },
    "kernelspec": {
      "name": "python3",
      "display_name": "Python 3"
    }
  },
  "cells": [
    {
      "cell_type": "markdown",
      "metadata": {
        "id": "view-in-github",
        "colab_type": "text"
      },
      "source": [
        "<a href=\"https://colab.research.google.com/github/gweschuck/PETE2061_Fall2020/blob/master/Untitled9.ipynb\" target=\"_parent\"><img src=\"https://colab.research.google.com/assets/colab-badge.svg\" alt=\"Open In Colab\"/></a>"
      ]
    },
    {
      "cell_type": "code",
      "metadata": {
        "id": "zhmV20wlCrrk",
        "colab_type": "code",
        "colab": {
          "base_uri": "https://localhost:8080/",
          "height": 510
        },
        "outputId": "ae824a4e-0561-4ab4-fd07-0ebcbbb699dc"
      },
      "source": [
        ""
      ],
      "execution_count": 27,
      "outputs": [
        {
          "output_type": "stream",
          "text": [
            "Let's practice everything.\n",
            "You'd need to know 'bout escapes with \\ that do \n",
            " newlines and \t tabs.\n",
            "--------------\n",
            "\n",
            "\tThe lovely world\n",
            "with logic so firmly planted\n",
            "cannot discern \n",
            " the needs of love\n",
            "nor comprehend passion from intuition\n",
            "and requires an explantion\n",
            "\n",
            "\t\twhere there is none.\n",
            "\n",
            "--------------\n",
            "This should be five: 6\n",
            "With a starting point of: 10000\n",
            "We'd have 5000000 jeans, 5000 jars, and 50 crates.\n",
            "We can also do that this way:\n",
            "We'd have 500000 beans, 500 jars, and 5 crabapples.\n",
            "All\n",
            "weight.\n",
            "All\n",
            "who\n",
            "['All', 'come', 'god\\tthings', 'those', 'to', 'weight.', 'who']\n",
            "All\n",
            "weight.\n",
            "All\n",
            "who\n"
          ],
          "name": "stdout"
        }
      ]
    },
    {
      "cell_type": "code",
      "metadata": {
        "id": "_5XAH3ceCsYc",
        "colab_type": "code",
        "colab": {}
      },
      "source": [
        ""
      ],
      "execution_count": null,
      "outputs": []
    }
  ]
}